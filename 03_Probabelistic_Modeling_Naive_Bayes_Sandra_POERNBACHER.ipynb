{
  "cells": [
    {
      "cell_type": "markdown",
      "metadata": {
        "id": "9C42l6P8Lrwf"
      },
      "source": [
        "# Probabelistic Modeling\n",
        "\n",
        "Probability calculation is a fundamental tool for statistical inference. However, to calculate a probability, we must know in advance the [probability  distribution function and its parameters](https://statlect.com/glossary/parameter).\n",
        "\n",
        "We know that as part of the language properties, text samples are not drawn from a Gaussian (normal) distribution. A typical modeling problem involves estimating the joint probability distribution for a given dataset: $P(x, y)$.\n",
        "\n",
        "**Probability Density Estimation** is the process of selecting a probability distribution function and estimating its parameters so that it can best explain the joint probability distribution of observed data ($ x_1, x_2, x_3, …, x_n \\in X$ ).\n",
        "\n",
        "But then:\n",
        "\n",
        "* How do we select the correct distribution function?\n",
        "* How can we find the best distribution parameters to match the data?\n",
        "\n",
        "After all, if we knew the true distribution of the data, we could have easily solved it! But since we don't, we can try estimating it with one of these two methods:\n",
        "\n",
        "1. Maximum a Posteriori (MAP), a Bayesian method.\n",
        "2. Maximum Likelihood Estimation (MLE), frequentist method.\n",
        "\n",
        "The main difference is that MLE assumes that all solutions are equally likely beforehand, whereas MAP allows prior information about the form of the solution to be harnessed. Or to illustrate it with an example: MAP assumes that the coin is fair; MLE would require you to toss it several times to be sure.\n",
        "\n",
        "## Maximum Likelihood Estimation (MLE)\n",
        "\n",
        "[Maximum Likelihood Estimation](https://online.stat.psu.edu/stat415/lesson/1/1.2) involves treating the problem as an **optimization** or **search problem**, where we seek a set of parameters that results in the best fit for the joint probability of the data sample (X).\n",
        "\n",
        "\n",
        "- Assume the data is drawn from some combination of a family of parametric distributions, such as [Gaussian](https://en.wikipedia.org/wiki/Normal_distribution), [Binomial](https://en.wikipedia.org/wiki/Binomial_distribution), [Bernoulli](https://en.wikipedia.org/wiki/Bernoulli_distribution), etc.\n",
        "- Try to predict the selected distribution parameters by either calculating the derivative or by taking a `log` of a sequence probability and optimizing it as a min-max problem (as we saw in the green electricity problem).\n",
        "\n",
        "### Mathematically formulated:\n",
        "Suppose we want to predict the target label of a *test* point $x_t$ ($t$ for test).\n",
        "\n",
        "In **MLE Prediction** the problem is defined as $P(y|x_t; θ)$, where $θ$ is purely a model parameter (e.g. distribution parameters).\n",
        "\n",
        "$$θ=\\arg \\max θ P(D;θ)$$\n",
        "\n",
        "We find the best parameters by maximizing $log[P(D;θ)] $.\n",
        "\n",
        "---\n",
        "\n",
        "### Connection to Machine Learning - Generative Models\n",
        "In supervised Machine learning, we are provided with training data drawn from a distribution $D$. Our task is to find the machine learning parameters that minimize the averaged estimated error (lowering the risk).\n",
        "\n",
        "But what if we go *the other way*?\n",
        "\n",
        "If we statistically estimate the attribute distributions first, we can then use those distributions as decision boundaries to make predictions on new data.\n",
        "\n",
        "Moreover, this classification approach of modeling the joint probability distribution of the attributes as a product of their prior and conditional probability enables us to draw new values randomly from those distributions. Or in other words, we can simulate or **generate** new data points.\n",
        "\n",
        "To be precise, the prior probability refers to the probability of drawing an example with a particular label *a priori* (without observing its input pattern). And the conditional probability is the probability of drawing a specific input for a given class label $y$.\n",
        "\n",
        "A generative learning algorithm starts by estimating these two terms. Then, the classification of a new input is assigned to the class with maximal posterior class-membership probability (but remember that these posterior probabilities are estimates and not the true ones...).\n",
        "\n",
        " ## Take-aways\n",
        "* Maximum Likelihood Estimation is a probabilistic framework for solving the problem of **density estimation**.\n",
        "* It involves maximizing a likelihood function to find the probability distribution and parameters that best explain the observed data.\n",
        "* The underlying joint and conditional probabilities estimation enables us to use this knowledge to make predictions and to generate new samples."
      ]
    },
    {
      "cell_type": "markdown",
      "metadata": {
        "id": "gR1LmYW82lu2"
      },
      "source": [
        "# Naïve Bayes Models"
      ]
    },
    {
      "cell_type": "markdown",
      "metadata": {
        "id": "IC8qaPtpEMhb"
      },
      "source": [
        "## Maximum a Posteriori"
      ]
    },
    {
      "cell_type": "markdown",
      "metadata": {
        "id": "Cf5_LbxxCuyR"
      },
      "source": [
        "Another way to obtain these posterior class-membership probabilities is by application of *Bayes' rule* to the estimates of the prior and class-conditional probabilities."
      ]
    },
    {
      "cell_type": "markdown",
      "metadata": {
        "id": "PJlgYb1BhoPZ"
      },
      "source": [
        "## Background\n",
        "\n",
        "\n",
        "\n",
        "Naive Bayes is a simple but important probabilistic model.\n",
        "\n",
        "The Bayes theorem is one of the two main statistical views (the second one is the frequentist theory). As opposed to frequentist view, here, in addition to counting previously observed frequencies, one can incorporate initial believes.\n",
        "\n",
        "We measure the results of a coin flip - *Heads* and *Tails*. The mean is close to 0.5, so we *assume* that the coin is fair. But How can we model that?\n",
        "\n",
        "> In **frequentist statistics**, we can add some imaginary number of throws - $m$:\n",
        "  $$ Θ = \\frac{nHeads + m}{nHead + nTails + 2m} $$\n",
        "\n",
        "if we threw the coin 10 times, and had 6 heads - $P(Θ) = \\frac{6}{10} = 0.6$, we can add 2 more throws, one head one tail, and we get $P(Θ) = \\frac{7}{11} = 0.63$, or even more - if we set $m=5$ we get $P(Θ) = \\frac{6+5}{10+2*5} = \\frac{11}{20} = 0.55$, and so on.\n",
        "  \n",
        "Another option is using Bayesian statistics.\n",
        "\n",
        "> In Bayesian statistics, $Θ$ is defined as a **random variable**, which is not associated with *any* event. In frequentist statistics, this is forbidden, but in Bayesian statistics, this is allowed, and you can specify a prior belief $P(θ)$ defining what values you believe $θ$ is likely to take on.\n",
        "\n",
        "The Bayes rule uses this notion of belief:\n",
        "$$P(θ∣D)= \\frac{P(D∣θ) P(θ)}{P(D)}$$\n",
        "Where:\n",
        "\n",
        "* $P(θ)$ is the prior distribution over the parameter(s) $θ$ before we see any data.\n",
        "* $P(D∣θ)$ is the likelihood of the data given the parameter(s) $θ$.\n",
        "* $P(θ∣D)$ is the posterior distribution over the parameter(s) $θ$ after we have observed the data.\n",
        "\n",
        "To better understand the Bayes rule, check out the following video:"
      ]
    },
    {
      "cell_type": "code",
      "execution_count": null,
      "metadata": {
        "colab": {
          "base_uri": "https://localhost:8080/",
          "height": 321
        },
        "id": "n-jgvkt35zPj",
        "outputId": "4a16f10a-2166-4478-d638-d39cd309acbe"
      },
      "outputs": [
        {
          "data": {
            "image/jpeg": "[encoded data removed]",
            "text/html": [
              "\n",
              "        <iframe\n",
              "            width=\"400\"\n",
              "            height=\"300\"\n",
              "            src=\"https://www.youtube.com/embed/HZGCoVF3YvM\"\n",
              "            frameborder=\"0\"\n",
              "            allowfullscreen\n",
              "            \n",
              "        ></iframe>\n",
              "        "
            ],
            "text/plain": [
              "<IPython.lib.display.YouTubeVideo at 0x7df279bb1390>"
            ]
          },
          "execution_count": 1,
          "metadata": {},
          "output_type": "execute_result"
        }
      ],
      "source": [
        "from IPython.display import YouTubeVideo\n",
        "YouTubeVideo('HZGCoVF3YvM')"
      ]
    },
    {
      "cell_type": "markdown",
      "metadata": {
        "id": "N5B3LblF2f7W"
      },
      "source": [
        "## Classification using a Generative Model - Naive Bayes\n",
        "\n",
        "A feature, or an attribute, a random variable, can be of two types: [continuous or district](http://www.stat.yale.edu/Courses/1997-98/101/ranvar.htm).\n",
        "\n",
        "### Discrete random variable\n",
        "For a discrete random variable $x$, the generative approach is based on the following factorization of the joint probability distribution of (X,Y):\n",
        "$$P(X=x, Y=y)=P(X=x | Y=y)P(Y=y)$$\n",
        "\n",
        "where $P(X=x | Y=y)$ is the conditional probability of drawing a particular input pattern in a given class $y$ and $P(Y=y)$ is the prior probability of drawing an example of this class.\n",
        "\n",
        "Using [Bayes' rule](https://en.wikipedia.org/wiki/Bayes%27_theorem) this decomposition also provides access to the posterior class-membership probabilities which are useful for classification.\n",
        "\n",
        "Overall, the generative approach amounts to the following steps:\n",
        "\n",
        "1. Estimate the prior probabilities $P(Y=y)$ for all labels $y∈Y$, e.g., via simply counting the classes:\n",
        "\n",
        "$$P(Y=y)=\\frac{1}{N}\\sum_{i=1}^N1_{y_i=y}$$\n",
        "\n",
        "2. Choose a family of distributions $P$ for the input pattern and assume it is the 'correct' distribution: $P(X=x | Y=y)∈P$\n",
        "\n",
        "3. Estimate the conditional distribution in all classes.\n",
        "\n",
        "4. Classify new input patterns with\n",
        "\n",
        "\\begin{align*}\n",
        "\tf( x) &= \\arg\\max_{y\\in Y} P(Y=y\\ |\\ X = x)  & (\\text{optimal classification rule}^*)\\\\\n",
        "\t& = \\arg\\max_{y\\in Y}\\frac{P(X= x\\ |\\ Y = y) P(Y=y)}{P(X=x)}  &  (\\text{due to Bayes' rule})\t\\\\\n",
        "\t& =  \\arg\\max_{y\\in Y} P(X= x\\ |\\ Y = y)  P(Y=y) & (\\text{because } P(X= x) \\text{ is always a constant, always the same, wrt. } y \\text{, so let's get rid of it} )\n",
        "\\end{align*}\n",
        "\n",
        "∗ - this classification rule would be optimal if we had access to the true probabilities.\n",
        "\n",
        "Depending on the choice of distribution family $P$, we obtain different classifiers.\n",
        "\n",
        "### Continuous random variable\n",
        "\n",
        "Continuous values are a bit more complicated. We can no longer calculate the conditional probabilities as we did before ( $P(X | Y)$, because there are simply way too many possible input Xs (e.g. 0.01, 0.001, 0.00001, all the way to infinity).\n",
        "\n",
        "One way to overcome it is to *bin* those values into ranges - as we did with the ages on the first example (20-39, 39-64, 65+). The other option is to calculate them using density functions.\n",
        "\n",
        "So if our $X$ is a continuous random variable, the generative approach is stated in terms of the [conditional probability density functions](https://en.wikipedia.org/wiki/Probability_density_function) $f_{X|Y=y}(x | Y=y)$ instead of the conditional probabilities $P(X=x | Y=y)$. Specifically, we work from the decomposition of the mixed density:\n",
        "\n",
        "$$f_{X,Y}(x,\\ Y=y) = f_{X|Y=y}( x\\ |\\ Y = y) f(Y=y) $$\n",
        "\n",
        "Assuming, of course, that we chose the 'correct' distribution density function $f$."
      ]
    },
    {
      "cell_type": "markdown",
      "metadata": {
        "id": "5stofo8-Us9x"
      },
      "source": [
        "To learn in a more visualized way about density functions and continuous random variables, I recommend you watching this video:"
      ]
    },
    {
      "cell_type": "code",
      "execution_count": null,
      "metadata": {
        "colab": {
          "base_uri": "https://localhost:8080/",
          "height": 321
        },
        "id": "vaUTyITHVK3s",
        "outputId": "60c3f502-0b90-4f25-f632-805b6b96502e"
      },
      "outputs": [
        {
          "data": {
            "image/jpeg": "[encoded data removed]",
            "text/html": [
              "\n",
              "        <iframe\n",
              "            width=\"400\"\n",
              "            height=\"300\"\n",
              "            src=\"https://www.youtube.com/embed/ZA4JkHKZM50\"\n",
              "            frameborder=\"0\"\n",
              "            allowfullscreen\n",
              "            \n",
              "        ></iframe>\n",
              "        "
            ],
            "text/plain": [
              "<IPython.lib.display.YouTubeVideo at 0x7df279bb1900>"
            ]
          },
          "execution_count": 2,
          "metadata": {},
          "output_type": "execute_result"
        }
      ],
      "source": [
        "from IPython.display import YouTubeVideo\n",
        "YouTubeVideo('ZA4JkHKZM50')"
      ]
    },
    {
      "cell_type": "markdown",
      "metadata": {
        "id": "rfAaN9tM9VRc"
      },
      "source": [
        "# Exercise"
      ]
    },
    {
      "cell_type": "markdown",
      "metadata": {
        "id": "bcZJChkY9eFx"
      },
      "source": [
        "Let's try it out.\n",
        "\n",
        "In this exercise, we will train a [Naive Bayes Classifier](https://en.wikipedia.org/wiki/Naive_Bayes_classifier). We will\n",
        "* make prior assumptions as for the distribution of our data; and\n",
        "* train a model to find the best parameters for that distribution\n",
        "\n",
        "Let's see how it works:"
      ]
    },
    {
      "cell_type": "code",
      "execution_count": null,
      "metadata": {
        "id": "mPXriVBATQGT"
      },
      "outputs": [],
      "source": [
        "import pandas as pd\n",
        "import matplotlib.pyplot as plt\n",
        "import seaborn as sn\n",
        "\n",
        "from sklearn import metrics\n",
        "from sklearn.feature_extraction.text import CountVectorizer, TfidfTransformer\n",
        "from sklearn.model_selection import train_test_split\n",
        "from sklearn.naive_bayes import MultinomialNB, ComplementNB\n",
        "from sklearn.pipeline import Pipeline\n",
        "\n",
        "%matplotlib inline"
      ]
    },
    {
      "cell_type": "markdown",
      "metadata": {
        "id": "Qr3xbigUzFiN"
      },
      "source": [
        "We will use some email data which we will classify as **spam** or not."
      ]
    },
    {
      "cell_type": "code",
      "execution_count": null,
      "metadata": {
        "colab": {
          "base_uri": "https://localhost:8080/",
          "height": 206
        },
        "id": "mzQeLuF3_sT7",
        "outputId": "b0763ae1-e1c4-4d75-e2bc-78cde03721b9"
      },
      "outputs": [
        {
          "data": {
            "application/vnd.google.colaboratory.intrinsic+json": {
              "summary": "{\n  \"name\": \"df_emails\",\n  \"rows\": 5,\n  \"fields\": [\n    {\n      \"column\": \"email\",\n      \"properties\": {\n        \"dtype\": \"string\",\n        \"num_unique_values\": 5,\n        \"samples\": [\n          \" hyperlink hyperlink hyperlink let mortgage lenders compete for your business did you receive an email advertisement in error our goal is to only target individuals who would like to take advantage of our offers if you d like to be removed from our mailing list please click on the link below you will be removed immediately and automatically from all of our future mailings we protect all email addresses from other third parties thank you hyperlink please remove me \",\n          \" hello this is chinese traditional \\u5b50 \\u4ef6 NUMBER\\u4e16 o\\u6700\\u6709\\u6548\\u7684\\u5ba3 \\u97a3\\u7ede\\u5251 \\u60a8\\u60f3 \\u5730NUMBER f\\u4eba\\u540c\\u4e00 r\\u523b\\u77e5\\u9053\\u60a8\\u7684 v\\u544a \\u5e54\\u78d5 \\u60f3\\u65b9\\u4fbf\\u5feb\\u6377\\u7684\\u5ba3 \\u9ac2 \\u7684\\u4f01 i \\u5e54 \\u60a8\\u60f3\\u5728\\u5546 i \\u4e2d\\u6b65\\u6b65 \\u7d2b c \\u5e54 \\u60a8\\u60f3\\u4e00\\u6b21 \\u789b \\u5728\\u5546 i\\u5ba2 \\u5e54 \\u8d8a \\u7893\\u8549\\u55df\\u607c \\u67e5\\u8868\\u660e w\\u8def\\u76f4 n \\u6210 \\u672a i n\\u65b9\\u5f0f\\u7684\\u4e3b\\u6d41 \\u800ce mail \\u2479\\u8537w\\u4e0a i n\\u6700\\u5e38\\u7528\\u4e5f\\u662f\\u6700 \\u7528\\u7684\\u5de5\\u5177 \\u5176\\u7279 c v r\\u6548\\u9ad8 r\\u683c\\u4f4e emarketer\\u4f30 \\u7f8e \\u6709NUMBER \\u7684\\u4e2d\\u7b49 \\u6a21\\u516c\\u53f8 \\u5e38 \\u7528 \\u5b50 \\u4ef6 m\\u884c i n\\u6d3b \\u5370 \\u90e8\\u5206 v\\u544a\\u5a92 w\\u5e73\\u5747\\u56de \\u7387\\u6bd4 average response rate ranges NUMBER NUMBER NUMBER \\u666e\\u901a\\u6a2a\\u5e45\\u5e7f\\u544a banner ads NUMBER NUMBER \\u666e\\u901a\\u4fe1\\u4ef6 direct mail NUMBER NUMBER \\u5b50 \\u4ef6 email \\u4e00 \\u4ef6\\u51fa\\u552e i\\u5168\\u7403 \\u4ef6\\u5730\\u5740 \\u6bcfNUMBER f NUMBERhk i\\u5168\\u90e8NUMBER f NUMBERhk i\\u9999\\u6e2f \\u4ef6\\u5730\\u5740 \\u6bcfNUMBER f NUMBERhk i\\u9999\\u6e2f\\u5168\\u90e8NUMBER f NUMBERhk hyperlink free download i _ \\u8d64 \\u4ef6\\u5730\\u5740 \\u6bcfNUMBER f NUMBERhk i _ \\u6a59 \\u90e8NUMBER f NUMBERhk hyperlink free download \\u4ef6 l\\u9001 v\\u544a \\u4ef6\\u4ee3\\u7406 l\\u9001 \\u6bcfNUMBER f NUMBERhk NUMBER f\\u8d77 l \\u8680_\\u7387NUMBER \\u4ee5\\u4e0a \\u5305\\u5468\\u7fa4 l \\u4e00\\u5468NUMBER f NUMBERhk \\u4e00\\u5468NUMBER f NUMBERhk \\u4fdd c w\\u7ad9\\u65e5 l \\u91cf\\u63d0\\u5347NUMBER\\u4ee5\\u4e0a \\u5305\\u6708\\u7fa4 l \\u4e00\\u6708NUMBER f NUMBERhk \\u4fdd c w\\u7ad9\\u65e5 l \\u91cf\\u63d0\\u5347NUMBER\\u4ee5\\u4e0a \\u4ef6 w NUMBER n\\u5957\\u7fa4 l \\u641c\\u7d22 w\\u8def l \\u884d w NUMBERhk \\u4f60\\u81ea\\u5df1 \\u789b\\u5e78\\u60f6\\u6dc4\\u665f\\u9891\\u78be \\u5b50 \\u4ef6\\u7fa4 l \\u641c\\u7d22 w\\u8def l \\u4e25\\u5230y \\u6709\\u610f\\u8005\\u8bf7\\u6765\\u4fe1\\u8054\\u7cfb hyperlink yhzxNUMBER URL \\u4e8c \\u641c\\u7d22\\u5f15\\u64ce \\u7f18\\u9877 \\u8d85\\u503c\\u670d \\u7728 \\u7279\\u60e0 rNUMBER hk y\\u6cb3\\u4e4b\\u661f \\u6e4d \\u767b \\u5168\\u7403NUMBER \\u82f1\\u6587\\u641c\\u7d22\\u5f15\\u64ce mNUMBER \\u4e2d\\u6587\\u641c\\u7d22\\u5f15\\u64ce \\u4f60\\u7684 w\\u7ad9\\u4eab u\\u5168\\u7403 e mail\\u5730\\u5740\\u5728\\u5404\\u5730 \\u7684\\u5206 \\u76d7 \\u9999\\u6e2f NUMBER hyperlink free download the sample _ \\u573a NUMBER hyperlink free download the sample \\u5168\\u7403 NUMBER f y\\u6cb3\\u4e4b\\u661f \\u789b \\u97e7\\u998d \\u6709\\u6548\\u7684email\\u4f4d\\u5740 y\\u6599 \\u6b24 \\u53ef\\u4ee5\\u6839 \\u5ba2 \\u823b\\u7537\\u67b0 \\u5728\\u6307\\u5b9a\\u7684\\u5730\\u65b9 \\u57df \\u884c i e\\u7b49 \\u50a9\\u915d\\u6597\\u70f9 \\u5b50 \\u4ef6 v\\u544a \\u5982 \\u4f60\\u60f3 \\u67d0\\u5730NUMBER f\\u4eba\\u4e00\\u5929\\u4e4b \\u90fd\\u77e5\\u9053\\u4f60\\u7684 a\\u54c1 y \\u90a3\\u9ebd v\\u544a \\u4ef6\\u6295\\u653e\\u5c31\\u662f\\u4f60\\u6700\\u597d\\u7684\\u89e3 q\\u65b9\\u6848 \\u5b83\\u7684 r\\u683c\\u662f\\u6240\\u6709 \\u9ac5 r\\u683c\\u4e2d\\u6700\\u4f4e \\u4f46\\u53c8\\u662f\\u6700\\u6709\\u6548\\u7684 c\\u9047\\u6bcf r\\u6bcf\\u523b\\u90fd\\u7b49\\u5f85\\u8457\\u4f60 \\u4e5f s\\u4f60\\u6b63\\u662f\\u7528\\u4e86 \\u62e5 \\u9ac5\\u83cf\\u4f84\\u5371 \\u800c\\u6253\\u57ae\\u4e86\\u6240\\u6709\\u7684 \\u03ba\\u5e27\\uff5as\\u5feb\\u884c \\u5f71\\u6851 \\u4f60\\u7684\\u4f01 i \\u516c\\u53f8\\u7acb\\u5373\\u638c\\u63e1\\u5546 i \\u9ac5\\u964d\\u62ff v\\u544ae mail \\u662f\\u666e\\u901a \\u9e82n i\\u6240\\u4e0d\\u80fd\\u6bd4 m\\u7684 m\\u53ca\\u4ed8\\u6b3e\\u65b9\\u5f0f \\u672c\\u516c\\u53f8 \\u6c16\\u622ew\\u8def v\\u544a\\u591a\\u5e74 \\u5ba3 \\u9ac1\\u03c7\\u4efb\\u75ea\\u53c8 \\u7b2c\\u56db\\u5927 w\\u8def v\\u544a\\u5546\\u4e4b\\u4e00 \\u6211 \\u6709 \\uff49t\\u7684\\u6280 g\\u4eba t\\u548c\\u9ad8\\u901f i\\u7684\\u670d \\u969c\\u5230y \\u6c16\\u9e93\\u96a7 \\u5de5\\u4f5c \\u5fc5 \\u60a8\\u7684\\u4f01 i\\u63d0\\u4f9b\\u6700\\u8fc5\\u6377 \\u6700\\u6709\\u6548 \\u6700 m\\u610f\\u7684\\u670d \\u94e1 \\u9700\\u6c42\\u5ba2 \\u7cbd c \\u66a8 y m \\u7bb1 hyperlink yhzxNUMBER URL \\u7847\\u802a \\u6ce8\\u660e\\u60a8\\u9700\\u8981\\u7684\\u670d \\u5f20c m\\u65b9\\u5f0f \\u6211 \\u5feb\\u56de \\u6e4d \\u6e2f \\u6fb3 _\\u5730 \\u4ed8\\u6b3e\\u65b9\\u5f0f \\u4efb\\u4f55 \\u5bb6\\u5747\\u53ef\\u5230 \\u5730 y\\u884c r NUMBER NUMBER\\u5929\\u5230 \\u3043 \\u9700\\u5230 \\u5730 y\\u884c k\\u7406 r english benificiary customer wangjingjing a c bank bank of china mianyang branch a c no NUMBER NUMBER NUMBER NUMBER benificiary s tel no NUMBER NUMBER \\u4e2d\\u6587 \\u03c6\\u7728 \\u6536 \\u6b3e \\u4eba \\u738b\\u6676\\u6676 \\u6536\\u6b3e y\\u884c \\u4e2d y\\u884c d \\u5206\\u884c NUMBER NUMBER NUMBER NUMBER \\u6536\\u6b3e\\u4eba NUMBER NUMBER NUMBER NUMBER\\u5929\\u5230 \\u3043 \\u6b3e\\u5230\\u5f8c\\u6211 \\u2498\\u2493 \\u60a8\\u63d0\\u4f9b\\u6700 m\\u610f\\u670d \\u94e1 g\\u8fce \\u7847 \\u9efc j m NUMBER NUMBER NUMBER y\\u6cb3\\u4e4b\\u661f w\\u8def y \\u6709\\u9650\\u516c\\u53f8 \\u516c\\u53f8\\u5730\\u5740 \\u4e2d \\u5927 d email hyperlink yhzxNUMBER URL j NUMBER NUMBER NUMBER \\u516c\\u53f8\\u670d NUMBER\\u798f\\u58d5w\\u8def\\u63a8 v w\\u7ad9\\u5efa o w\\u8def \\u540d w \\u5bc4\\u5b58 \\u529f\\u80fd \\u5f97 q\\u7a7a g w l\\u5c55\\u7b49 r x\\u4f4e\\u5ec9 \\u670d g\\u8fce \\u7847 \\u9efc m \",\n          \" thank you for shopping with us gifts for all occasions free gift with NUMBER NUMBER purchase for a limited time only receive this NUMBER plush santa bear free with your purchase of NUMBER NUMBER or more when your order totals NUMBER NUMBER or more order must be NUMBER NUMBER or more before shipping and handling this santa bear is added to your cart for free while supplies last mary s store would like to thank you for being a valued customer as our way of saying thanks to you the customer we are offering a NUMBER discount on all purchases made during the month of november just enter the word thanks in the discount code box during checkout to receive your automatic NUMBER discount hyperlink click here hyperlink to enter hyperlink mary s store if you do not wish to receive further discounts please hyperlink click here and type remove in the subject line \"\n        ],\n        \"semantic_type\": \"\",\n        \"description\": \"\"\n      }\n    },\n    {\n      \"column\": \"label\",\n      \"properties\": {\n        \"dtype\": \"number\",\n        \"std\": 0,\n        \"min\": 1,\n        \"max\": 1,\n        \"num_unique_values\": 1,\n        \"samples\": [\n          1\n        ],\n        \"semantic_type\": \"\",\n        \"description\": \"\"\n      }\n    }\n  ]\n}",
              "type": "dataframe"
            },
            "text/html": [
              "\n",
              "  <div id=\"df-2fc97262-b118-453d-8aeb-a1213c50aba8\" class=\"colab-df-container\">\n",
              "    <div>\n",
              "<style scoped>\n",
              "    .dataframe tbody tr th:only-of-type {\n",
              "        vertical-align: middle;\n",
              "    }\n",
              "\n",
              "    .dataframe tbody tr th {\n",
              "        vertical-align: top;\n",
              "    }\n",
              "\n",
              "    .dataframe thead th {\n",
              "        text-align: right;\n",
              "    }\n",
              "</style>\n",
              "<table border=\"1\" class=\"dataframe\">\n",
              "  <thead>\n",
              "    <tr style=\"text-align: right;\">\n",
              "      <th></th>\n",
              "      <th>email</th>\n",
              "      <th>label</th>\n",
              "    </tr>\n",
              "  </thead>\n",
              "  <tbody>\n",
              "    <tr>\n",
              "      <th>2995</th>\n",
              "      <td>abc s good morning america ranks it the NUMBE...</td>\n",
              "      <td>1</td>\n",
              "    </tr>\n",
              "    <tr>\n",
              "      <th>2996</th>\n",
              "      <td>hyperlink hyperlink hyperlink let mortgage le...</td>\n",
              "      <td>1</td>\n",
              "    </tr>\n",
              "    <tr>\n",
              "      <th>2997</th>\n",
              "      <td>thank you for shopping with us gifts for all ...</td>\n",
              "      <td>1</td>\n",
              "    </tr>\n",
              "    <tr>\n",
              "      <th>2998</th>\n",
              "      <td>the famous ebay marketing e course learn to s...</td>\n",
              "      <td>1</td>\n",
              "    </tr>\n",
              "    <tr>\n",
              "      <th>2999</th>\n",
              "      <td>hello this is chinese traditional 子 件 NUMBER世...</td>\n",
              "      <td>1</td>\n",
              "    </tr>\n",
              "  </tbody>\n",
              "</table>\n",
              "</div>\n",
              "    <div class=\"colab-df-buttons\">\n",
              "\n",
              "  <div class=\"colab-df-container\">\n",
              "    <button class=\"colab-df-convert\" onclick=\"convertToInteractive('df-2fc97262-b118-453d-8aeb-a1213c50aba8')\"\n",
              "            title=\"Convert this dataframe to an interactive table.\"\n",
              "            style=\"display:none;\">\n",
              "\n",
              "  <svg xmlns=\"http://www.w3.org/2000/svg\" height=\"24px\" viewBox=\"0 -960 960 960\">\n",
              "    <path d=\"M120-120v-720h720v720H120Zm60-500h600v-160H180v160Zm220 220h160v-160H400v160Zm0 220h160v-160H400v160ZM180-400h160v-160H180v160Zm440 0h160v-160H620v160ZM180-180h160v-160H180v160Zm440 0h160v-160H620v160Z\"/>\n",
              "  </svg>\n",
              "    </button>\n",
              "\n",
              "  <style>\n",
              "    .colab-df-container {\n",
              "      display:flex;\n",
              "      gap: 12px;\n",
              "    }\n",
              "\n",
              "    .colab-df-convert {\n",
              "      background-color: #E8F0FE;\n",
              "      border: none;\n",
              "      border-radius: 50%;\n",
              "      cursor: pointer;\n",
              "      display: none;\n",
              "      fill: #1967D2;\n",
              "      height: 32px;\n",
              "      padding: 0 0 0 0;\n",
              "      width: 32px;\n",
              "    }\n",
              "\n",
              "    .colab-df-convert:hover {\n",
              "      background-color: #E2EBFA;\n",
              "      box-shadow: 0px 1px 2px rgba(60, 64, 67, 0.3), 0px 1px 3px 1px rgba(60, 64, 67, 0.15);\n",
              "      fill: #174EA6;\n",
              "    }\n",
              "\n",
              "    .colab-df-buttons div {\n",
              "      margin-bottom: 4px;\n",
              "    }\n",
              "\n",
              "    [theme=dark] .colab-df-convert {\n",
              "      background-color: #3B4455;\n",
              "      fill: #D2E3FC;\n",
              "    }\n",
              "\n",
              "    [theme=dark] .colab-df-convert:hover {\n",
              "      background-color: #434B5C;\n",
              "      box-shadow: 0px 1px 3px 1px rgba(0, 0, 0, 0.15);\n",
              "      filter: drop-shadow(0px 1px 2px rgba(0, 0, 0, 0.3));\n",
              "      fill: #FFFFFF;\n",
              "    }\n",
              "  </style>\n",
              "\n",
              "    <script>\n",
              "      const buttonEl =\n",
              "        document.querySelector('#df-2fc97262-b118-453d-8aeb-a1213c50aba8 button.colab-df-convert');\n",
              "      buttonEl.style.display =\n",
              "        google.colab.kernel.accessAllowed ? 'block' : 'none';\n",
              "\n",
              "      async function convertToInteractive(key) {\n",
              "        const element = document.querySelector('#df-2fc97262-b118-453d-8aeb-a1213c50aba8');\n",
              "        const dataTable =\n",
              "          await google.colab.kernel.invokeFunction('convertToInteractive',\n",
              "                                                    [key], {});\n",
              "        if (!dataTable) return;\n",
              "\n",
              "        const docLinkHtml = 'Like what you see? Visit the ' +\n",
              "          '<a target=\"_blank\" href=https://colab.research.google.com/notebooks/data_table.ipynb>data table notebook</a>'\n",
              "          + ' to learn more about interactive tables.';\n",
              "        element.innerHTML = '';\n",
              "        dataTable['output_type'] = 'display_data';\n",
              "        await google.colab.output.renderOutput(dataTable, element);\n",
              "        const docLink = document.createElement('div');\n",
              "        docLink.innerHTML = docLinkHtml;\n",
              "        element.appendChild(docLink);\n",
              "      }\n",
              "    </script>\n",
              "  </div>\n",
              "\n",
              "\n",
              "<div id=\"df-cc7c6396-6d60-4720-9b73-b50fca01830b\">\n",
              "  <button class=\"colab-df-quickchart\" onclick=\"quickchart('df-cc7c6396-6d60-4720-9b73-b50fca01830b')\"\n",
              "            title=\"Suggest charts\"\n",
              "            style=\"display:none;\">\n",
              "\n",
              "<svg xmlns=\"http://www.w3.org/2000/svg\" height=\"24px\"viewBox=\"0 0 24 24\"\n",
              "     width=\"24px\">\n",
              "    <g>\n",
              "        <path d=\"M19 3H5c-1.1 0-2 .9-2 2v14c0 1.1.9 2 2 2h14c1.1 0 2-.9 2-2V5c0-1.1-.9-2-2-2zM9 17H7v-7h2v7zm4 0h-2V7h2v10zm4 0h-2v-4h2v4z\"/>\n",
              "    </g>\n",
              "</svg>\n",
              "  </button>\n",
              "\n",
              "<style>\n",
              "  .colab-df-quickchart {\n",
              "      --bg-color: #E8F0FE;\n",
              "      --fill-color: #1967D2;\n",
              "      --hover-bg-color: #E2EBFA;\n",
              "      --hover-fill-color: #174EA6;\n",
              "      --disabled-fill-color: #AAA;\n",
              "      --disabled-bg-color: #DDD;\n",
              "  }\n",
              "\n",
              "  [theme=dark] .colab-df-quickchart {\n",
              "      --bg-color: #3B4455;\n",
              "      --fill-color: #D2E3FC;\n",
              "      --hover-bg-color: #434B5C;\n",
              "      --hover-fill-color: #FFFFFF;\n",
              "      --disabled-bg-color: #3B4455;\n",
              "      --disabled-fill-color: #666;\n",
              "  }\n",
              "\n",
              "  .colab-df-quickchart {\n",
              "    background-color: var(--bg-color);\n",
              "    border: none;\n",
              "    border-radius: 50%;\n",
              "    cursor: pointer;\n",
              "    display: none;\n",
              "    fill: var(--fill-color);\n",
              "    height: 32px;\n",
              "    padding: 0;\n",
              "    width: 32px;\n",
              "  }\n",
              "\n",
              "  .colab-df-quickchart:hover {\n",
              "    background-color: var(--hover-bg-color);\n",
              "    box-shadow: 0 1px 2px rgba(60, 64, 67, 0.3), 0 1px 3px 1px rgba(60, 64, 67, 0.15);\n",
              "    fill: var(--button-hover-fill-color);\n",
              "  }\n",
              "\n",
              "  .colab-df-quickchart-complete:disabled,\n",
              "  .colab-df-quickchart-complete:disabled:hover {\n",
              "    background-color: var(--disabled-bg-color);\n",
              "    fill: var(--disabled-fill-color);\n",
              "    box-shadow: none;\n",
              "  }\n",
              "\n",
              "  .colab-df-spinner {\n",
              "    border: 2px solid var(--fill-color);\n",
              "    border-color: transparent;\n",
              "    border-bottom-color: var(--fill-color);\n",
              "    animation:\n",
              "      spin 1s steps(1) infinite;\n",
              "  }\n",
              "\n",
              "  @keyframes spin {\n",
              "    0% {\n",
              "      border-color: transparent;\n",
              "      border-bottom-color: var(--fill-color);\n",
              "      border-left-color: var(--fill-color);\n",
              "    }\n",
              "    20% {\n",
              "      border-color: transparent;\n",
              "      border-left-color: var(--fill-color);\n",
              "      border-top-color: var(--fill-color);\n",
              "    }\n",
              "    30% {\n",
              "      border-color: transparent;\n",
              "      border-left-color: var(--fill-color);\n",
              "      border-top-color: var(--fill-color);\n",
              "      border-right-color: var(--fill-color);\n",
              "    }\n",
              "    40% {\n",
              "      border-color: transparent;\n",
              "      border-right-color: var(--fill-color);\n",
              "      border-top-color: var(--fill-color);\n",
              "    }\n",
              "    60% {\n",
              "      border-color: transparent;\n",
              "      border-right-color: var(--fill-color);\n",
              "    }\n",
              "    80% {\n",
              "      border-color: transparent;\n",
              "      border-right-color: var(--fill-color);\n",
              "      border-bottom-color: var(--fill-color);\n",
              "    }\n",
              "    90% {\n",
              "      border-color: transparent;\n",
              "      border-bottom-color: var(--fill-color);\n",
              "    }\n",
              "  }\n",
              "</style>\n",
              "\n",
              "  <script>\n",
              "    async function quickchart(key) {\n",
              "      const quickchartButtonEl =\n",
              "        document.querySelector('#' + key + ' button');\n",
              "      quickchartButtonEl.disabled = true;  // To prevent multiple clicks.\n",
              "      quickchartButtonEl.classList.add('colab-df-spinner');\n",
              "      try {\n",
              "        const charts = await google.colab.kernel.invokeFunction(\n",
              "            'suggestCharts', [key], {});\n",
              "      } catch (error) {\n",
              "        console.error('Error during call to suggestCharts:', error);\n",
              "      }\n",
              "      quickchartButtonEl.classList.remove('colab-df-spinner');\n",
              "      quickchartButtonEl.classList.add('colab-df-quickchart-complete');\n",
              "    }\n",
              "    (() => {\n",
              "      let quickchartButtonEl =\n",
              "        document.querySelector('#df-cc7c6396-6d60-4720-9b73-b50fca01830b button');\n",
              "      quickchartButtonEl.style.display =\n",
              "        google.colab.kernel.accessAllowed ? 'block' : 'none';\n",
              "    })();\n",
              "  </script>\n",
              "</div>\n",
              "\n",
              "    </div>\n",
              "  </div>\n"
            ],
            "text/plain": [
              "                                                  email  label\n",
              "2995   abc s good morning america ranks it the NUMBE...      1\n",
              "2996   hyperlink hyperlink hyperlink let mortgage le...      1\n",
              "2997   thank you for shopping with us gifts for all ...      1\n",
              "2998   the famous ebay marketing e course learn to s...      1\n",
              "2999   hello this is chinese traditional 子 件 NUMBER世...      1"
            ]
          },
          "execution_count": 4,
          "metadata": {},
          "output_type": "execute_result"
        }
      ],
      "source": [
        "df_emails = pd.read_csv('https://raw.githubusercontent.com/liadmagen/Modeling_course/main/data/spam_or_not_spam.csv', encoding=\"UTF-8\")\n",
        "df_emails.tail()"
      ]
    },
    {
      "cell_type": "markdown",
      "metadata": {
        "id": "zdE8xSi5Aon1"
      },
      "source": [
        "Let's divide the data into [**training** and **test** sets](https://builtin.com/data-science/train-test-split)"
      ]
    },
    {
      "cell_type": "code",
      "execution_count": null,
      "metadata": {
        "id": "2naE3XyBAkZW"
      },
      "outputs": [],
      "source": [
        "############## YOUR TURN ##############\n",
        "# Divide the data into training and test set using sklearn's train_test_split.\n",
        "# use the colunm 'email' for the training data\n",
        "# use the column 'label' as the target y\n",
        "X = df_emails['email']\n",
        "y = df_emails['label']\n",
        "\n",
        "X_train, X_test, y_train, y_test = train_test_split(X, y, test_size = 0.2, random_state = 42)\n",
        "\n",
        "\n",
        "########################################"
      ]
    },
    {
      "cell_type": "markdown",
      "metadata": {
        "id": "976z2bfAA5Ox"
      },
      "source": [
        "We are going to use some NLP-specific methods here. Machine Learning Models are expecting numerical values as their input.\n",
        "\n",
        "Therefore, we must process the text a bit - transforming every word to some fraction, based on their frequency.   \n",
        "This score represents how unique the word is, based on their appearance count in the whole dataset.\n",
        "\n",
        "We will use a [Naive Bayes, assuming a Multinomial distribution](https://scikit-learn.org/stable/modules/generated/sklearn.naive_bayes.MultinomialNB.html), and put it in a data processing [pipeline](https://scikit-learn.org/stable/modules/generated/sklearn.pipeline.Pipeline.html)."
      ]
    },
    {
      "cell_type": "code",
      "execution_count": null,
      "metadata": {
        "id": "AKMTWBKUAWME"
      },
      "outputs": [],
      "source": [
        "# Create Pre-processing pipeline and a Multinomial Naive Bayes classifier.\n",
        "\n",
        "# CountVectorizer calculates the frequency of words in the dataset (how often they appear)\n",
        "# TfidfTransformer calculates the frequency of a word in this document, divided by their frequency over ALL the documents.\n",
        "\n",
        "# MultinomialNB is a Naive Bayes classifier assuming a multinomial distribution\n",
        "spam_classifier = Pipeline([('vect', CountVectorizer()), ('tfidf', TfidfTransformer()), ('clf', MultinomialNB()), ])"
      ]
    },
    {
      "cell_type": "markdown",
      "metadata": {
        "id": "A9hZ7HKqELET"
      },
      "source": [
        "And we train:"
      ]
    },
    {
      "cell_type": "code",
      "execution_count": null,
      "metadata": {
        "colab": {
          "base_uri": "https://localhost:8080/",
          "height": 183
        },
        "id": "ysSnLtwoBhz1",
        "outputId": "56e90553-ea81-47e3-8f96-c23613020c11"
      },
      "outputs": [
        {
          "data": {
            "text/html": [
              "<style>#sk-container-id-1 {\n",
              "  /* Definition of color scheme common for light and dark mode */\n",
              "  --sklearn-color-text: black;\n",
              "  --sklearn-color-line: gray;\n",
              "  /* Definition of color scheme for unfitted estimators */\n",
              "  --sklearn-color-unfitted-level-0: #fff5e6;\n",
              "  --sklearn-color-unfitted-level-1: #f6e4d2;\n",
              "  --sklearn-color-unfitted-level-2: #ffe0b3;\n",
              "  --sklearn-color-unfitted-level-3: chocolate;\n",
              "  /* Definition of color scheme for fitted estimators */\n",
              "  --sklearn-color-fitted-level-0: #f0f8ff;\n",
              "  --sklearn-color-fitted-level-1: #d4ebff;\n",
              "  --sklearn-color-fitted-level-2: #b3dbfd;\n",
              "  --sklearn-color-fitted-level-3: cornflowerblue;\n",
              "\n",
              "  /* Specific color for light theme */\n",
              "  --sklearn-color-text-on-default-background: var(--sg-text-color, var(--theme-code-foreground, var(--jp-content-font-color1, black)));\n",
              "  --sklearn-color-background: var(--sg-background-color, var(--theme-background, var(--jp-layout-color0, white)));\n",
              "  --sklearn-color-border-box: var(--sg-text-color, var(--theme-code-foreground, var(--jp-content-font-color1, black)));\n",
              "  --sklearn-color-icon: #696969;\n",
              "\n",
              "  @media (prefers-color-scheme: dark) {\n",
              "    /* Redefinition of color scheme for dark theme */\n",
              "    --sklearn-color-text-on-default-background: var(--sg-text-color, var(--theme-code-foreground, var(--jp-content-font-color1, white)));\n",
              "    --sklearn-color-background: var(--sg-background-color, var(--theme-background, var(--jp-layout-color0, #111)));\n",
              "    --sklearn-color-border-box: var(--sg-text-color, var(--theme-code-foreground, var(--jp-content-font-color1, white)));\n",
              "    --sklearn-color-icon: #878787;\n",
              "  }\n",
              "}\n",
              "\n",
              "#sk-container-id-1 {\n",
              "  color: var(--sklearn-color-text);\n",
              "}\n",
              "\n",
              "#sk-container-id-1 pre {\n",
              "  padding: 0;\n",
              "}\n",
              "\n",
              "#sk-container-id-1 input.sk-hidden--visually {\n",
              "  border: 0;\n",
              "  clip: rect(1px 1px 1px 1px);\n",
              "  clip: rect(1px, 1px, 1px, 1px);\n",
              "  height: 1px;\n",
              "  margin: -1px;\n",
              "  overflow: hidden;\n",
              "  padding: 0;\n",
              "  position: absolute;\n",
              "  width: 1px;\n",
              "}\n",
              "\n",
              "#sk-container-id-1 div.sk-dashed-wrapped {\n",
              "  border: 1px dashed var(--sklearn-color-line);\n",
              "  margin: 0 0.4em 0.5em 0.4em;\n",
              "  box-sizing: border-box;\n",
              "  padding-bottom: 0.4em;\n",
              "  background-color: var(--sklearn-color-background);\n",
              "}\n",
              "\n",
              "#sk-container-id-1 div.sk-container {\n",
              "  /* jupyter's `normalize.less` sets `[hidden] { display: none; }`\n",
              "     but bootstrap.min.css set `[hidden] { display: none !important; }`\n",
              "     so we also need the `!important` here to be able to override the\n",
              "     default hidden behavior on the sphinx rendered scikit-learn.org.\n",
              "     See: https://github.com/scikit-learn/scikit-learn/issues/21755 */\n",
              "  display: inline-block !important;\n",
              "  position: relative;\n",
              "}\n",
              "\n",
              "#sk-container-id-1 div.sk-text-repr-fallback {\n",
              "  display: none;\n",
              "}\n",
              "\n",
              "div.sk-parallel-item,\n",
              "div.sk-serial,\n",
              "div.sk-item {\n",
              "  /* draw centered vertical line to link estimators */\n",
              "  background-image: linear-gradient(var(--sklearn-color-text-on-default-background), var(--sklearn-color-text-on-default-background));\n",
              "  background-size: 2px 100%;\n",
              "  background-repeat: no-repeat;\n",
              "  background-position: center center;\n",
              "}\n",
              "\n",
              "/* Parallel-specific style estimator block */\n",
              "\n",
              "#sk-container-id-1 div.sk-parallel-item::after {\n",
              "  content: \"\";\n",
              "  width: 100%;\n",
              "  border-bottom: 2px solid var(--sklearn-color-text-on-default-background);\n",
              "  flex-grow: 1;\n",
              "}\n",
              "\n",
              "#sk-container-id-1 div.sk-parallel {\n",
              "  display: flex;\n",
              "  align-items: stretch;\n",
              "  justify-content: center;\n",
              "  background-color: var(--sklearn-color-background);\n",
              "  position: relative;\n",
              "}\n",
              "\n",
              "#sk-container-id-1 div.sk-parallel-item {\n",
              "  display: flex;\n",
              "  flex-direction: column;\n",
              "}\n",
              "\n",
              "#sk-container-id-1 div.sk-parallel-item:first-child::after {\n",
              "  align-self: flex-end;\n",
              "  width: 50%;\n",
              "}\n",
              "\n",
              "#sk-container-id-1 div.sk-parallel-item:last-child::after {\n",
              "  align-self: flex-start;\n",
              "  width: 50%;\n",
              "}\n",
              "\n",
              "#sk-container-id-1 div.sk-parallel-item:only-child::after {\n",
              "  width: 0;\n",
              "}\n",
              "\n",
              "/* Serial-specific style estimator block */\n",
              "\n",
              "#sk-container-id-1 div.sk-serial {\n",
              "  display: flex;\n",
              "  flex-direction: column;\n",
              "  align-items: center;\n",
              "  background-color: var(--sklearn-color-background);\n",
              "  padding-right: 1em;\n",
              "  padding-left: 1em;\n",
              "}\n",
              "\n",
              "\n",
              "/* Toggleable style: style used for estimator/Pipeline/ColumnTransformer box that is\n",
              "clickable and can be expanded/collapsed.\n",
              "- Pipeline and ColumnTransformer use this feature and define the default style\n",
              "- Estimators will overwrite some part of the style using the `sk-estimator` class\n",
              "*/\n",
              "\n",
              "/* Pipeline and ColumnTransformer style (default) */\n",
              "\n",
              "#sk-container-id-1 div.sk-toggleable {\n",
              "  /* Default theme specific background. It is overwritten whether we have a\n",
              "  specific estimator or a Pipeline/ColumnTransformer */\n",
              "  background-color: var(--sklearn-color-background);\n",
              "}\n",
              "\n",
              "/* Toggleable label */\n",
              "#sk-container-id-1 label.sk-toggleable__label {\n",
              "  cursor: pointer;\n",
              "  display: block;\n",
              "  width: 100%;\n",
              "  margin-bottom: 0;\n",
              "  padding: 0.5em;\n",
              "  box-sizing: border-box;\n",
              "  text-align: center;\n",
              "}\n",
              "\n",
              "#sk-container-id-1 label.sk-toggleable__label-arrow:before {\n",
              "  /* Arrow on the left of the label */\n",
              "  content: \"▸\";\n",
              "  float: left;\n",
              "  margin-right: 0.25em;\n",
              "  color: var(--sklearn-color-icon);\n",
              "}\n",
              "\n",
              "#sk-container-id-1 label.sk-toggleable__label-arrow:hover:before {\n",
              "  color: var(--sklearn-color-text);\n",
              "}\n",
              "\n",
              "/* Toggleable content - dropdown */\n",
              "\n",
              "#sk-container-id-1 div.sk-toggleable__content {\n",
              "  max-height: 0;\n",
              "  max-width: 0;\n",
              "  overflow: hidden;\n",
              "  text-align: left;\n",
              "  /* unfitted */\n",
              "  background-color: var(--sklearn-color-unfitted-level-0);\n",
              "}\n",
              "\n",
              "#sk-container-id-1 div.sk-toggleable__content.fitted {\n",
              "  /* fitted */\n",
              "  background-color: var(--sklearn-color-fitted-level-0);\n",
              "}\n",
              "\n",
              "#sk-container-id-1 div.sk-toggleable__content pre {\n",
              "  margin: 0.2em;\n",
              "  border-radius: 0.25em;\n",
              "  color: var(--sklearn-color-text);\n",
              "  /* unfitted */\n",
              "  background-color: var(--sklearn-color-unfitted-level-0);\n",
              "}\n",
              "\n",
              "#sk-container-id-1 div.sk-toggleable__content.fitted pre {\n",
              "  /* unfitted */\n",
              "  background-color: var(--sklearn-color-fitted-level-0);\n",
              "}\n",
              "\n",
              "#sk-container-id-1 input.sk-toggleable__control:checked~div.sk-toggleable__content {\n",
              "  /* Expand drop-down */\n",
              "  max-height: 200px;\n",
              "  max-width: 100%;\n",
              "  overflow: auto;\n",
              "}\n",
              "\n",
              "#sk-container-id-1 input.sk-toggleable__control:checked~label.sk-toggleable__label-arrow:before {\n",
              "  content: \"▾\";\n",
              "}\n",
              "\n",
              "/* Pipeline/ColumnTransformer-specific style */\n",
              "\n",
              "#sk-container-id-1 div.sk-label input.sk-toggleable__control:checked~label.sk-toggleable__label {\n",
              "  color: var(--sklearn-color-text);\n",
              "  background-color: var(--sklearn-color-unfitted-level-2);\n",
              "}\n",
              "\n",
              "#sk-container-id-1 div.sk-label.fitted input.sk-toggleable__control:checked~label.sk-toggleable__label {\n",
              "  background-color: var(--sklearn-color-fitted-level-2);\n",
              "}\n",
              "\n",
              "/* Estimator-specific style */\n",
              "\n",
              "/* Colorize estimator box */\n",
              "#sk-container-id-1 div.sk-estimator input.sk-toggleable__control:checked~label.sk-toggleable__label {\n",
              "  /* unfitted */\n",
              "  background-color: var(--sklearn-color-unfitted-level-2);\n",
              "}\n",
              "\n",
              "#sk-container-id-1 div.sk-estimator.fitted input.sk-toggleable__control:checked~label.sk-toggleable__label {\n",
              "  /* fitted */\n",
              "  background-color: var(--sklearn-color-fitted-level-2);\n",
              "}\n",
              "\n",
              "#sk-container-id-1 div.sk-label label.sk-toggleable__label,\n",
              "#sk-container-id-1 div.sk-label label {\n",
              "  /* The background is the default theme color */\n",
              "  color: var(--sklearn-color-text-on-default-background);\n",
              "}\n",
              "\n",
              "/* On hover, darken the color of the background */\n",
              "#sk-container-id-1 div.sk-label:hover label.sk-toggleable__label {\n",
              "  color: var(--sklearn-color-text);\n",
              "  background-color: var(--sklearn-color-unfitted-level-2);\n",
              "}\n",
              "\n",
              "/* Label box, darken color on hover, fitted */\n",
              "#sk-container-id-1 div.sk-label.fitted:hover label.sk-toggleable__label.fitted {\n",
              "  color: var(--sklearn-color-text);\n",
              "  background-color: var(--sklearn-color-fitted-level-2);\n",
              "}\n",
              "\n",
              "/* Estimator label */\n",
              "\n",
              "#sk-container-id-1 div.sk-label label {\n",
              "  font-family: monospace;\n",
              "  font-weight: bold;\n",
              "  display: inline-block;\n",
              "  line-height: 1.2em;\n",
              "}\n",
              "\n",
              "#sk-container-id-1 div.sk-label-container {\n",
              "  text-align: center;\n",
              "}\n",
              "\n",
              "/* Estimator-specific */\n",
              "#sk-container-id-1 div.sk-estimator {\n",
              "  font-family: monospace;\n",
              "  border: 1px dotted var(--sklearn-color-border-box);\n",
              "  border-radius: 0.25em;\n",
              "  box-sizing: border-box;\n",
              "  margin-bottom: 0.5em;\n",
              "  /* unfitted */\n",
              "  background-color: var(--sklearn-color-unfitted-level-0);\n",
              "}\n",
              "\n",
              "#sk-container-id-1 div.sk-estimator.fitted {\n",
              "  /* fitted */\n",
              "  background-color: var(--sklearn-color-fitted-level-0);\n",
              "}\n",
              "\n",
              "/* on hover */\n",
              "#sk-container-id-1 div.sk-estimator:hover {\n",
              "  /* unfitted */\n",
              "  background-color: var(--sklearn-color-unfitted-level-2);\n",
              "}\n",
              "\n",
              "#sk-container-id-1 div.sk-estimator.fitted:hover {\n",
              "  /* fitted */\n",
              "  background-color: var(--sklearn-color-fitted-level-2);\n",
              "}\n",
              "\n",
              "/* Specification for estimator info (e.g. \"i\" and \"?\") */\n",
              "\n",
              "/* Common style for \"i\" and \"?\" */\n",
              "\n",
              ".sk-estimator-doc-link,\n",
              "a:link.sk-estimator-doc-link,\n",
              "a:visited.sk-estimator-doc-link {\n",
              "  float: right;\n",
              "  font-size: smaller;\n",
              "  line-height: 1em;\n",
              "  font-family: monospace;\n",
              "  background-color: var(--sklearn-color-background);\n",
              "  border-radius: 1em;\n",
              "  height: 1em;\n",
              "  width: 1em;\n",
              "  text-decoration: none !important;\n",
              "  margin-left: 1ex;\n",
              "  /* unfitted */\n",
              "  border: var(--sklearn-color-unfitted-level-1) 1pt solid;\n",
              "  color: var(--sklearn-color-unfitted-level-1);\n",
              "}\n",
              "\n",
              ".sk-estimator-doc-link.fitted,\n",
              "a:link.sk-estimator-doc-link.fitted,\n",
              "a:visited.sk-estimator-doc-link.fitted {\n",
              "  /* fitted */\n",
              "  border: var(--sklearn-color-fitted-level-1) 1pt solid;\n",
              "  color: var(--sklearn-color-fitted-level-1);\n",
              "}\n",
              "\n",
              "/* On hover */\n",
              "div.sk-estimator:hover .sk-estimator-doc-link:hover,\n",
              ".sk-estimator-doc-link:hover,\n",
              "div.sk-label-container:hover .sk-estimator-doc-link:hover,\n",
              ".sk-estimator-doc-link:hover {\n",
              "  /* unfitted */\n",
              "  background-color: var(--sklearn-color-unfitted-level-3);\n",
              "  color: var(--sklearn-color-background);\n",
              "  text-decoration: none;\n",
              "}\n",
              "\n",
              "div.sk-estimator.fitted:hover .sk-estimator-doc-link.fitted:hover,\n",
              ".sk-estimator-doc-link.fitted:hover,\n",
              "div.sk-label-container:hover .sk-estimator-doc-link.fitted:hover,\n",
              ".sk-estimator-doc-link.fitted:hover {\n",
              "  /* fitted */\n",
              "  background-color: var(--sklearn-color-fitted-level-3);\n",
              "  color: var(--sklearn-color-background);\n",
              "  text-decoration: none;\n",
              "}\n",
              "\n",
              "/* Span, style for the box shown on hovering the info icon */\n",
              ".sk-estimator-doc-link span {\n",
              "  display: none;\n",
              "  z-index: 9999;\n",
              "  position: relative;\n",
              "  font-weight: normal;\n",
              "  right: .2ex;\n",
              "  padding: .5ex;\n",
              "  margin: .5ex;\n",
              "  width: min-content;\n",
              "  min-width: 20ex;\n",
              "  max-width: 50ex;\n",
              "  color: var(--sklearn-color-text);\n",
              "  box-shadow: 2pt 2pt 4pt #999;\n",
              "  /* unfitted */\n",
              "  background: var(--sklearn-color-unfitted-level-0);\n",
              "  border: .5pt solid var(--sklearn-color-unfitted-level-3);\n",
              "}\n",
              "\n",
              ".sk-estimator-doc-link.fitted span {\n",
              "  /* fitted */\n",
              "  background: var(--sklearn-color-fitted-level-0);\n",
              "  border: var(--sklearn-color-fitted-level-3);\n",
              "}\n",
              "\n",
              ".sk-estimator-doc-link:hover span {\n",
              "  display: block;\n",
              "}\n",
              "\n",
              "/* \"?\"-specific style due to the `<a>` HTML tag */\n",
              "\n",
              "#sk-container-id-1 a.estimator_doc_link {\n",
              "  float: right;\n",
              "  font-size: 1rem;\n",
              "  line-height: 1em;\n",
              "  font-family: monospace;\n",
              "  background-color: var(--sklearn-color-background);\n",
              "  border-radius: 1rem;\n",
              "  height: 1rem;\n",
              "  width: 1rem;\n",
              "  text-decoration: none;\n",
              "  /* unfitted */\n",
              "  color: var(--sklearn-color-unfitted-level-1);\n",
              "  border: var(--sklearn-color-unfitted-level-1) 1pt solid;\n",
              "}\n",
              "\n",
              "#sk-container-id-1 a.estimator_doc_link.fitted {\n",
              "  /* fitted */\n",
              "  border: var(--sklearn-color-fitted-level-1) 1pt solid;\n",
              "  color: var(--sklearn-color-fitted-level-1);\n",
              "}\n",
              "\n",
              "/* On hover */\n",
              "#sk-container-id-1 a.estimator_doc_link:hover {\n",
              "  /* unfitted */\n",
              "  background-color: var(--sklearn-color-unfitted-level-3);\n",
              "  color: var(--sklearn-color-background);\n",
              "  text-decoration: none;\n",
              "}\n",
              "\n",
              "#sk-container-id-1 a.estimator_doc_link.fitted:hover {\n",
              "  /* fitted */\n",
              "  background-color: var(--sklearn-color-fitted-level-3);\n",
              "}\n",
              "</style><div id=\"sk-container-id-1\" class=\"sk-top-container\"><div class=\"sk-text-repr-fallback\"><pre>Pipeline(steps=[(&#x27;vect&#x27;, CountVectorizer()), (&#x27;tfidf&#x27;, TfidfTransformer()),\n",
              "                (&#x27;clf&#x27;, MultinomialNB())])</pre><b>In a Jupyter environment, please rerun this cell to show the HTML representation or trust the notebook. <br />On GitHub, the HTML representation is unable to render, please try loading this page with nbviewer.org.</b></div><div class=\"sk-container\" hidden><div class=\"sk-item sk-dashed-wrapped\"><div class=\"sk-label-container\"><div class=\"sk-label fitted sk-toggleable\"><input class=\"sk-toggleable__control sk-hidden--visually\" id=\"sk-estimator-id-1\" type=\"checkbox\" ><label for=\"sk-estimator-id-1\" class=\"sk-toggleable__label fitted sk-toggleable__label-arrow fitted\">&nbsp;&nbsp;Pipeline<a class=\"sk-estimator-doc-link fitted\" rel=\"noreferrer\" target=\"_blank\" href=\"https://scikit-learn.org/1.5/modules/generated/sklearn.pipeline.Pipeline.html\">?<span>Documentation for Pipeline</span></a><span class=\"sk-estimator-doc-link fitted\">i<span>Fitted</span></span></label><div class=\"sk-toggleable__content fitted\"><pre>Pipeline(steps=[(&#x27;vect&#x27;, CountVectorizer()), (&#x27;tfidf&#x27;, TfidfTransformer()),\n",
              "                (&#x27;clf&#x27;, MultinomialNB())])</pre></div> </div></div><div class=\"sk-serial\"><div class=\"sk-item\"><div class=\"sk-estimator fitted sk-toggleable\"><input class=\"sk-toggleable__control sk-hidden--visually\" id=\"sk-estimator-id-2\" type=\"checkbox\" ><label for=\"sk-estimator-id-2\" class=\"sk-toggleable__label fitted sk-toggleable__label-arrow fitted\">&nbsp;CountVectorizer<a class=\"sk-estimator-doc-link fitted\" rel=\"noreferrer\" target=\"_blank\" href=\"https://scikit-learn.org/1.5/modules/generated/sklearn.feature_extraction.text.CountVectorizer.html\">?<span>Documentation for CountVectorizer</span></a></label><div class=\"sk-toggleable__content fitted\"><pre>CountVectorizer()</pre></div> </div></div><div class=\"sk-item\"><div class=\"sk-estimator fitted sk-toggleable\"><input class=\"sk-toggleable__control sk-hidden--visually\" id=\"sk-estimator-id-3\" type=\"checkbox\" ><label for=\"sk-estimator-id-3\" class=\"sk-toggleable__label fitted sk-toggleable__label-arrow fitted\">&nbsp;TfidfTransformer<a class=\"sk-estimator-doc-link fitted\" rel=\"noreferrer\" target=\"_blank\" href=\"https://scikit-learn.org/1.5/modules/generated/sklearn.feature_extraction.text.TfidfTransformer.html\">?<span>Documentation for TfidfTransformer</span></a></label><div class=\"sk-toggleable__content fitted\"><pre>TfidfTransformer()</pre></div> </div></div><div class=\"sk-item\"><div class=\"sk-estimator fitted sk-toggleable\"><input class=\"sk-toggleable__control sk-hidden--visually\" id=\"sk-estimator-id-4\" type=\"checkbox\" ><label for=\"sk-estimator-id-4\" class=\"sk-toggleable__label fitted sk-toggleable__label-arrow fitted\">&nbsp;MultinomialNB<a class=\"sk-estimator-doc-link fitted\" rel=\"noreferrer\" target=\"_blank\" href=\"https://scikit-learn.org/1.5/modules/generated/sklearn.naive_bayes.MultinomialNB.html\">?<span>Documentation for MultinomialNB</span></a></label><div class=\"sk-toggleable__content fitted\"><pre>MultinomialNB()</pre></div> </div></div></div></div></div></div>"
            ],
            "text/plain": [
              "Pipeline(steps=[('vect', CountVectorizer()), ('tfidf', TfidfTransformer()),\n",
              "                ('clf', MultinomialNB())])"
            ]
          },
          "execution_count": 7,
          "metadata": {},
          "output_type": "execute_result"
        }
      ],
      "source": [
        "spam_classifier.fit(X_train.values.astype('U'), y_train)"
      ]
    },
    {
      "cell_type": "markdown",
      "metadata": {
        "id": "i6JmFl4CHxT-"
      },
      "source": [
        "Now that we have a classifier - let's filter some spam!!!"
      ]
    },
    {
      "cell_type": "code",
      "execution_count": null,
      "metadata": {
        "id": "8cFMIIvlEJff"
      },
      "outputs": [],
      "source": [
        "y_preds = spam_classifier.predict(X_test.values.astype('U'))\n"
      ]
    },
    {
      "cell_type": "markdown",
      "metadata": {
        "id": "2cFNu5WdH138"
      },
      "source": [
        "How well did we do?\n",
        "\n",
        "We can test our model results of the test set using different metrics from the sklearn metrics package.\n",
        "\n",
        "For example, the [classification_report](https://scikit-learn.org/stable/modules/generated/sklearn.metrics.classification_report.html) which calculates precision, recall, f1-score and accuracy:"
      ]
    },
    {
      "cell_type": "code",
      "execution_count": null,
      "metadata": {
        "colab": {
          "base_uri": "https://localhost:8080/"
        },
        "id": "HNWtO7tiBnOU",
        "outputId": "77953bb1-cd11-400d-9c57-f7e6987ca97c"
      },
      "outputs": [
        {
          "name": "stdout",
          "output_type": "stream",
          "text": [
            "              precision    recall  f1-score   support\n",
            "\n",
            "        Spam       0.87      1.00      0.93       505\n",
            "    Not Spam       1.00      0.19      0.32        95\n",
            "\n",
            "    accuracy                           0.87       600\n",
            "   macro avg       0.93      0.59      0.62       600\n",
            "weighted avg       0.89      0.87      0.83       600\n",
            "\n"
          ]
        }
      ],
      "source": [
        "print(metrics.classification_report(y_test, y_preds, target_names=[\"Spam\",\"Not Spam\"]))"
      ]
    },
    {
      "cell_type": "markdown",
      "metadata": {
        "id": "1slBCp86aV6X"
      },
      "source": [
        "Pay attention to the results. Our dataset is not balanced, hence we have large differences between the different f1-scores.\n",
        "\n",
        "If we plot a confusion table, we can clearly see that we didn't do so well, despite the high f1-score:"
      ]
    },
    {
      "cell_type": "code",
      "execution_count": null,
      "metadata": {
        "colab": {
          "base_uri": "https://localhost:8080/",
          "height": 461
        },
        "id": "eCqyioH3Ev16",
        "outputId": "a3d28829-5906-43dc-8818-4846414623d0"
      },
      "outputs": [
        {
          "data": {
            "text/plain": [
              "<Axes: >"
            ]
          },
          "execution_count": 10,
          "metadata": {},
          "output_type": "execute_result"
        },
        {
          "data": {
            "image/png": "[encoded data removed]",
            "text/plain": [
              "<Figure size 640x480 with 2 Axes>"
            ]
          },
          "metadata": {},
          "output_type": "display_data"
        }
      ],
      "source": [
        "conf_mat = metrics.confusion_matrix(y_test, y_preds)\n",
        "df_cm = pd.DataFrame(conf_mat, [\"Spam\",\"Not Spam\"], [\"Spam\",\"Not Spam\"])\n",
        "\n",
        "sn.set(font_scale=1.4)\n",
        "sn.heatmap(df_cm, annot=True, fmt='d', cmap=\"YlGnBu\")\n"
      ]
    },
    {
      "cell_type": "markdown",
      "metadata": {
        "id": "ddw7lXE2Cgju"
      },
      "source": [
        "This is one of the reasons that the [Mathew's Correlation Coefficients](https://www.statisticshowto.com/matthews-correlation-coefficient/) is such a good alternative to the F1-Score:"
      ]
    },
    {
      "cell_type": "code",
      "execution_count": null,
      "metadata": {
        "colab": {
          "base_uri": "https://localhost:8080/"
        },
        "id": "u-4ptCWZB0ef",
        "outputId": "9d29a9dc-18cf-41ca-ef4a-1af7a9586239"
      },
      "outputs": [
        {
          "name": "stdout",
          "output_type": "stream",
          "text": [
            "0.4054699249153405\n"
          ]
        }
      ],
      "source": [
        "print(metrics.matthews_corrcoef(y_test, y_preds))"
      ]
    },
    {
      "cell_type": "markdown",
      "metadata": {
        "id": "fY1ovWpYGmpa"
      },
      "source": [
        "# Can we do better?\n",
        "\n",
        "Let's try it again - this time with another inductive bias - we will assume the distribution of the text is of [`ComplementNB`](https://scikit-learn.org/stable/modules/generated/sklearn.naive_bayes.ComplementNB.html#sklearn.naive_bayes.ComplementNB)\n",
        "\n",
        "---\n",
        "## Your turn:\n",
        "\n",
        "Create a pipeline with a [Complement Naive Bayes classifier](https://scikit-learn.org/stable/modules/naive_bayes.html#complement-naive-bayes), which fits better imbalanced classes, and train it on our dataset.\n",
        "\n",
        "Check your results on the test-set and plot a confussion matrix.\n",
        "\n",
        "How did your new model do?"
      ]
    },
    {
      "cell_type": "code",
      "execution_count": null,
      "metadata": {
        "colab": {
          "base_uri": "https://localhost:8080/",
          "height": 618
        },
        "id": "mgSAIYlhGNmC",
        "outputId": "51642f38-9f88-4289-b677-48df680891bf"
      },
      "outputs": [
        {
          "name": "stdout",
          "output_type": "stream",
          "text": [
            "              precision    recall  f1-score   support\n",
            "\n",
            "        Spam       0.87      1.00      0.93       505\n",
            "    Not Spam       1.00      0.19      0.32        95\n",
            "\n",
            "    accuracy                           0.87       600\n",
            "   macro avg       0.93      0.59      0.62       600\n",
            "weighted avg       0.89      0.87      0.83       600\n",
            "\n"
          ]
        },
        {
          "data": {
            "text/plain": [
              "<Axes: >"
            ]
          },
          "execution_count": 14,
          "metadata": {},
          "output_type": "execute_result"
        },
        {
          "data": {
            "image/png": "[encoded data removed]",
            "text/plain": [
              "<Figure size 640x480 with 2 Axes>"
            ]
          },
          "metadata": {},
          "output_type": "display_data"
        }
      ],
      "source": [
        "### Your turn ###\n",
        "\n",
        "spam_classifier_cnb = Pipeline([('vect', CountVectorizer()), ('tfidf', TfidfTransformer()), ('clf', MultinomialNB()),  ])\n",
        "spam_classifier_cnb.fit(X_train.values.astype('U'), y_train)\n",
        "y_preds_cnb = spam_classifier_cnb.predict(X_test.values.astype('U'))\n",
        "\n",
        "print(metrics.classification_report(y_test, y_preds_cnb, target_names=[\"Spam\",\"Not Spam\"]))\n",
        "conf_mat_cnb = metrics.confusion_matrix(y_test, y_preds_cnb)\n",
        "df_cm_cnb = pd.DataFrame(conf_mat_cnb, [\"Spam\",\"Not Spam\"], [\"Spam\",\"Not Spam\"])\n",
        "\n",
        "sn.set(font_scale=1.4)\n",
        "sn.heatmap(df_cm_cnb, annot=True, fmt='d', cmap=\"YlGnBu\")\n",
        "\n",
        "##################"
      ]
    },
    {
      "cell_type": "markdown",
      "metadata": {
        "id": "b5rJ3U91a3Rk"
      },
      "source": [
        "## Or even better\n",
        "\n",
        "There is one major problem with the Naive-Bayes model:\n",
        "\n",
        "If a word did not exist during the training, it was never counted. If such a word suddenly appear during inference, it will cause a division by 0 (the posterior - the previous observation is 0).\n",
        "\n",
        "Think about it for a moment: in spam messages, we ALWAYS have newly invented words! Spam senders are trying to trick the spam-detector model by changing letters (i=!) to alter existing words to new words.\n",
        "\n",
        "### How can we overcome this?\n",
        "\n",
        "One way to solve it is called the \"Add-one Smoothing\", where we add one (1) to both the denominator and numerator. But this smoothing value doesn't have to be 1. We can change this value to *any* positive number, even fractions!\n",
        "\n",
        "$P(w | positive) = \\frac{number of samples with w and y = positive + \\alpha}{N+\\alpha * K}$\n",
        "\n",
        "Try playing with the Additive (also called Laplace/Lidstone) smoothing parameter of the MultinomialNB or the ComplementNB.  \n",
        "The parameter is named **alpha** in the scikit-learn implementation.\n",
        "\n",
        "Challenge yourself: Can you score above 95%? above 98%? above 99%?\n",
        "\n",
        "Or even better - can you automate the search of this hyperparameter using a [grid or a random search?](https://scikit-learn.org/stable/modules/grid_search.html)"
      ]
    },
    {
      "cell_type": "markdown",
      "metadata": {
        "id": "DsKrxogz-Q82"
      },
      "source": [
        "# Diving deeper\n",
        "\n",
        "To dive deeper into the topic and to observe more examples, please consider [reading or watching this article](http://www.cs.cornell.edu/courses/cs4780/2018fa/lectures/lecturenote05.html)"
      ]
    },
    {
      "cell_type": "markdown",
      "metadata": {
        "id": "bvcfc9GSIqMy"
      },
      "source": [
        "## Bonus: Try another model\n",
        "\n",
        "Try comparing your achieved results with another model (kNN, Decision Tree, Random Forest). Hint: you'll need to still use the TFIDF.\n",
        "\n",
        "Which model yield the best results?"
      ]
    },
    {
      "cell_type": "code",
      "execution_count": null,
      "metadata": {
        "colab": {
          "background_save": true,
          "base_uri": "https://localhost:8080/"
        },
        "id": "p50gUNfCAvjP",
        "outputId": "a3025421-8243-496e-e259-87e954a4f935"
      },
      "outputs": [
        {
          "name": "stdout",
          "output_type": "stream",
          "text": [
            "Training Complement Naive Bayes...\n",
            "\n",
            "Complement Naive Bayes - Classification Report:\n",
            "              precision    recall  f1-score   support\n",
            "\n",
            "        Spam       0.87      1.00      0.93       505\n",
            "    Not Spam       1.00      0.19      0.32        95\n",
            "\n",
            "    accuracy                           0.87       600\n",
            "   macro avg       0.93      0.59      0.62       600\n",
            "weighted avg       0.89      0.87      0.83       600\n",
            "\n",
            "Training kNN...\n",
            "\n",
            "kNN - Classification Report:\n",
            "              precision    recall  f1-score   support\n",
            "\n",
            "        Spam       0.99      0.84      0.91       505\n",
            "    Not Spam       0.53      0.97      0.68        95\n",
            "\n",
            "    accuracy                           0.86       600\n",
            "   macro avg       0.76      0.90      0.79       600\n",
            "weighted avg       0.92      0.86      0.87       600\n",
            "\n",
            "Training Decision Tree...\n",
            "\n",
            "Decision Tree - Classification Report:\n",
            "              precision    recall  f1-score   support\n",
            "\n",
            "        Spam       0.98      0.98      0.98       505\n",
            "    Not Spam       0.88      0.89      0.89        95\n",
            "\n",
            "    accuracy                           0.96       600\n",
            "   macro avg       0.93      0.94      0.93       600\n",
            "weighted avg       0.96      0.96      0.96       600\n",
            "\n",
            "Training Random Forest...\n",
            "\n",
            "Random Forest - Classification Report:\n",
            "              precision    recall  f1-score   support\n",
            "\n",
            "        Spam       0.97      1.00      0.99       505\n",
            "    Not Spam       1.00      0.86      0.93        95\n",
            "\n",
            "    accuracy                           0.98       600\n",
            "   macro avg       0.99      0.93      0.96       600\n",
            "weighted avg       0.98      0.98      0.98       600\n",
            "\n"
          ]
        }
      ],
      "source": [
        "from sklearn.neighbors import KNeighborsClassifier\n",
        "from sklearn.tree import DecisionTreeClassifier\n",
        "from sklearn.ensemble import RandomForestClassifier\n",
        "\n",
        "#k-Nearest Neighbors (kNN) pipeline\n",
        "spam_classifier_knn = Pipeline([\n",
        "    ('vect', CountVectorizer()),\n",
        "    ('tfidf', TfidfTransformer()),\n",
        "    ('clf', KNeighborsClassifier()),\n",
        "])\n",
        "\n",
        "#decision Tree pipeline\n",
        "spam_classifier_dt = Pipeline([\n",
        "    ('vect', CountVectorizer()),\n",
        "    ('tfidf', TfidfTransformer()),\n",
        "    ('clf', DecisionTreeClassifier()),\n",
        "])\n",
        "\n",
        "#random Forest pipeline\n",
        "spam_classifier_rf = Pipeline([\n",
        "    ('vect', CountVectorizer()),\n",
        "    ('tfidf', TfidfTransformer()),\n",
        "    ('clf', RandomForestClassifier()),\n",
        "])\n",
        "\n",
        "\n",
        "\n",
        "classifiers = {\n",
        "    \"Complement Naive Bayes\": spam_classifier_cnb,\n",
        "    \"kNN\": spam_classifier_knn,\n",
        "    \"Decision Tree\": spam_classifier_dt,\n",
        "    \"Random Forest\": spam_classifier_rf\n",
        "}\n",
        "\n",
        "results = []\n",
        "\n",
        "for name, classifier in classifiers.items():\n",
        "    print(f\"Training {name}...\")\n",
        "    classifier.fit(X_train.values.astype('U'), y_train)\n",
        "\n",
        "    y_preds = classifier.predict(X_test.values.astype('U'))\n",
        "\n",
        "    print(f\"\\n{name} - Classification Report:\")\n",
        "    report_str = metrics.classification_report(y_test, y_preds, target_names=[\"Spam\", \"Not Spam\"])\n",
        "    print(report_str)\n",
        "\n",
        "    accuracy = metrics.accuracy_score(y_test, y_preds)\n",
        "    precision_spam = metrics.precision_score(y_test, y_preds, pos_label=1)\n",
        "    recall_spam = metrics.recall_score(y_test, y_preds, pos_label=1)\n",
        "    f1_spam = metrics.f1_score(y_test, y_preds, pos_label=1)\n",
        "\n",
        "    results.append({\n",
        "        \"Classifier\": name,\n",
        "        \"Accuracy\": accuracy,\n",
        "        \"Precision (Spam)\": precision_spam,\n",
        "        \"Recall (Spam)\": recall_spam,\n",
        "        \"F1-Score (Spam)\": f1_spam\n",
        "    })\n",
        "\n",
        "\n",
        "    conf_mat = metrics.confusion_matrix(y_test, y_preds)\n",
        "    df_cm = pd.DataFrame(conf_mat, [\"Spam\", \"Not Spam\"], [\"Spam\", \"Not Spam\"])"
      ]
    }
  ],
  "metadata": {
    "colab": {
      "provenance": []
    },
    "kernelspec": {
      "display_name": "Python 3",
      "name": "python3"
    },
    "language_info": {
      "name": "python"
    }
  },
  "nbformat": 4,
  "nbformat_minor": 0
}